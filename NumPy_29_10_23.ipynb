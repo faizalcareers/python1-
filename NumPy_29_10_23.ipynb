{
  "nbformat": 4,
  "nbformat_minor": 0,
  "metadata": {
    "colab": {
      "provenance": []
    },
    "kernelspec": {
      "name": "python3",
      "display_name": "Python 3"
    },
    "language_info": {
      "name": "python"
    }
  },
  "cells": [
    {
      "cell_type": "markdown",
      "source": [
        "1. Create a numpy array with numpy.array module and with a data type integer and float.\n",
        "2. Create numpy arrays that have zero, one, two, three, Four dimensions respectively. Also, print the shape and dimensions of the numpy arrays created above.\n",
        "3. Create a 2x3, 3x3, and 4x4 identity matrix using numpy.\n",
        "4. Create a numpy array with shape 2x5 that has all the elements as zero.\n",
        "5. Create a numpy array that has the shape 3x5 and all the elements are 5.\n",
        "6. Create a numpy array with random integers in the range 0-100, and the sample size should be 25.\n",
        "7. Create a numpy array with a shape 3x3 that has all elements as 1.\n",
        "8. Create a numpy array in the shape 2x3 with random integers in the range 0-100. Reshape the array in the shape 3x2 and print the updated shape of the resultant array.\n",
        "9. Create a random array, with the range 0-1000, with a size 50 and step 2. Perform the following operations on the same. a. Print the first ten elements of the array. b. Print the last ten elements of the array c. Print\n",
        "the elements from the indexes 10-25 d. Print the element at the index 22 e. Print the array using negative indexing. f. Print the last ten elements of the array, using negative indexing.\n",
        "10. Given a numpy array that has values = [1,2,3,4,5]. Perform the following operations. a. Insert the element 6 at the end of the array. b. Insert the element 10 at the beginning of the array. c. Insert the element 30,\n",
        "before 4. d. Update the element 5 as 50. e. Delete the element 50 in the updated array. f. Create a function to search for the element 30. g. Sort the array in ascending order.\n"
      ],
      "metadata": {
        "id": "kvRgzEhX3WYy"
      }
    },
    {
      "cell_type": "markdown",
      "source": [
        "Create a numpy array with numpy.array module and with a data type integer and float."
      ],
      "metadata": {
        "id": "Ri0oeoRz4dmj"
      }
    },
    {
      "cell_type": "code",
      "execution_count": 1,
      "metadata": {
        "colab": {
          "base_uri": "https://localhost:8080/"
        },
        "id": "hl1cbAY-3EyC",
        "outputId": "87fb5bb2-2736-4529-a6c6-6ea8ffae8433"
      },
      "outputs": [
        {
          "output_type": "stream",
          "name": "stdout",
          "text": [
            "Integer Array:\n",
            "[1 2 3 4 5]\n",
            "Float Array:\n",
            "[1.1 2.2 3.3 4.4 5.5]\n"
          ]
        }
      ],
      "source": [
        "import numpy as np\n",
        "\n",
        "\n",
        "integer_array = np.array([1, 2, 3, 4, 5], dtype=int)\n",
        "\n",
        "\n",
        "float_array = np.array([1.1, 2.2, 3.3, 4.4, 5.5], dtype=float)\n",
        "\n",
        "print(\"Integer Array:\")\n",
        "print(integer_array)\n",
        "print(\"Float Array:\")\n",
        "print(float_array)\n"
      ]
    },
    {
      "cell_type": "markdown",
      "source": [
        "Create numpy arrays that have zero, one, two, three, Four dimensions respectively. Also, print the shape and dimensions of the numpy arrays created above."
      ],
      "metadata": {
        "id": "y_KgnBuB593G"
      }
    },
    {
      "cell_type": "code",
      "source": [
        "a=np.array(1)"
      ],
      "metadata": {
        "id": "JccWnBLn5i5J"
      },
      "execution_count": 2,
      "outputs": []
    },
    {
      "cell_type": "code",
      "source": [
        "a.ndim"
      ],
      "metadata": {
        "colab": {
          "base_uri": "https://localhost:8080/"
        },
        "id": "-nN9WOI-62NX",
        "outputId": "159dbf19-73af-4f5f-b7a7-9bf3d4850d7e"
      },
      "execution_count": 3,
      "outputs": [
        {
          "output_type": "execute_result",
          "data": {
            "text/plain": [
              "0"
            ]
          },
          "metadata": {},
          "execution_count": 3
        }
      ]
    },
    {
      "cell_type": "code",
      "source": [
        "b=np.array ([1,2,3,4])\n",
        "b.ndim"
      ],
      "metadata": {
        "colab": {
          "base_uri": "https://localhost:8080/"
        },
        "id": "aEwzj2Cc63gq",
        "outputId": "d78278c4-c1d0-4a13-db40-cdecda2be432"
      },
      "execution_count": 4,
      "outputs": [
        {
          "output_type": "execute_result",
          "data": {
            "text/plain": [
              "1"
            ]
          },
          "metadata": {},
          "execution_count": 4
        }
      ]
    },
    {
      "cell_type": "code",
      "source": [
        "b=np.array ([1,2,3,4],ndmin=2)\n",
        "b.ndim"
      ],
      "metadata": {
        "colab": {
          "base_uri": "https://localhost:8080/"
        },
        "id": "ES6sYgrJ69e2",
        "outputId": "eef0812a-55a5-40ec-b0cc-64f5943f443e"
      },
      "execution_count": 5,
      "outputs": [
        {
          "output_type": "execute_result",
          "data": {
            "text/plain": [
              "2"
            ]
          },
          "metadata": {},
          "execution_count": 5
        }
      ]
    },
    {
      "cell_type": "code",
      "source": [
        "b=np.array ([1,2,3,4],ndmin=3)\n",
        "b.ndim"
      ],
      "metadata": {
        "colab": {
          "base_uri": "https://localhost:8080/"
        },
        "id": "QWnwIYNu7CCp",
        "outputId": "869a8427-5686-4159-8b69-70d79d044c77"
      },
      "execution_count": 6,
      "outputs": [
        {
          "output_type": "execute_result",
          "data": {
            "text/plain": [
              "3"
            ]
          },
          "metadata": {},
          "execution_count": 6
        }
      ]
    },
    {
      "cell_type": "code",
      "source": [
        "b=np.array ([1,2,3,4],ndmin=4)\n",
        "b.ndim"
      ],
      "metadata": {
        "colab": {
          "base_uri": "https://localhost:8080/"
        },
        "id": "vYMFZcN-7FD5",
        "outputId": "238e7d0b-b0ce-482b-9241-5dd8fe5ea162"
      },
      "execution_count": 7,
      "outputs": [
        {
          "output_type": "execute_result",
          "data": {
            "text/plain": [
              "4"
            ]
          },
          "metadata": {},
          "execution_count": 7
        }
      ]
    },
    {
      "cell_type": "code",
      "source": [
        "a=np.random.randint(10)\n",
        "b=np.random.randint(10,20 , size =(2,4))\n",
        "c=np.random.randint(10,20 , size =(2,4,2))\n"
      ],
      "metadata": {
        "id": "qYSdkdON7H9W"
      },
      "execution_count": 8,
      "outputs": []
    },
    {
      "cell_type": "code",
      "source": [
        "b.ndim"
      ],
      "metadata": {
        "colab": {
          "base_uri": "https://localhost:8080/"
        },
        "id": "Scc07nGv7Saz",
        "outputId": "ffa3cf23-1b98-4836-c213-59e1f37607a4"
      },
      "execution_count": 12,
      "outputs": [
        {
          "output_type": "execute_result",
          "data": {
            "text/plain": [
              "2"
            ]
          },
          "metadata": {},
          "execution_count": 12
        }
      ]
    },
    {
      "cell_type": "code",
      "source": [
        "c.ndim"
      ],
      "metadata": {
        "colab": {
          "base_uri": "https://localhost:8080/"
        },
        "id": "GMbzsSdR7UIt",
        "outputId": "e6def3b4-f977-4ce3-f219-9e99846835ce"
      },
      "execution_count": 14,
      "outputs": [
        {
          "output_type": "execute_result",
          "data": {
            "text/plain": [
              "3"
            ]
          },
          "metadata": {},
          "execution_count": 14
        }
      ]
    },
    {
      "cell_type": "code",
      "source": [
        "b"
      ],
      "metadata": {
        "colab": {
          "base_uri": "https://localhost:8080/"
        },
        "id": "xhepm3Ea7epf",
        "outputId": "68da852f-dc6c-46c4-dcd9-3a71f7889d1f"
      },
      "execution_count": 15,
      "outputs": [
        {
          "output_type": "execute_result",
          "data": {
            "text/plain": [
              "array([[16, 11, 16, 17],\n",
              "       [18, 15, 10, 11]])"
            ]
          },
          "metadata": {},
          "execution_count": 15
        }
      ]
    },
    {
      "cell_type": "markdown",
      "source": [
        "Create a 2x2, 3x3, and 4x4 identity matrix using numpy."
      ],
      "metadata": {
        "id": "xCbhz7u97zAV"
      }
    },
    {
      "cell_type": "code",
      "source": [
        "np.identity(2)"
      ],
      "metadata": {
        "colab": {
          "base_uri": "https://localhost:8080/"
        },
        "id": "vkaqptS87qkN",
        "outputId": "946911ff-1b2c-438e-b981-25c22a330494"
      },
      "execution_count": 16,
      "outputs": [
        {
          "output_type": "execute_result",
          "data": {
            "text/plain": [
              "array([[1., 0.],\n",
              "       [0., 1.]])"
            ]
          },
          "metadata": {},
          "execution_count": 16
        }
      ]
    },
    {
      "cell_type": "code",
      "source": [
        "np.eye(2)"
      ],
      "metadata": {
        "colab": {
          "base_uri": "https://localhost:8080/"
        },
        "id": "VRMIrUxL8m4D",
        "outputId": "6b6f3901-eb80-4976-ed99-fda19a877f5c"
      },
      "execution_count": 17,
      "outputs": [
        {
          "output_type": "execute_result",
          "data": {
            "text/plain": [
              "array([[1., 0.],\n",
              "       [0., 1.]])"
            ]
          },
          "metadata": {},
          "execution_count": 17
        }
      ]
    },
    {
      "cell_type": "code",
      "source": [
        "np.eye(3)"
      ],
      "metadata": {
        "colab": {
          "base_uri": "https://localhost:8080/"
        },
        "id": "0CiGtrr08qCN",
        "outputId": "902aabd0-52a2-4ad2-fe7c-a9c10b173415"
      },
      "execution_count": 18,
      "outputs": [
        {
          "output_type": "execute_result",
          "data": {
            "text/plain": [
              "array([[1., 0., 0.],\n",
              "       [0., 1., 0.],\n",
              "       [0., 0., 1.]])"
            ]
          },
          "metadata": {},
          "execution_count": 18
        }
      ]
    },
    {
      "cell_type": "code",
      "source": [
        "np.eye(4)"
      ],
      "metadata": {
        "colab": {
          "base_uri": "https://localhost:8080/"
        },
        "id": "MUZqOb1c8sOQ",
        "outputId": "20afac5e-9e9e-4f5f-9c59-b9756ee389a2"
      },
      "execution_count": 19,
      "outputs": [
        {
          "output_type": "execute_result",
          "data": {
            "text/plain": [
              "array([[1., 0., 0., 0.],\n",
              "       [0., 1., 0., 0.],\n",
              "       [0., 0., 1., 0.],\n",
              "       [0., 0., 0., 1.]])"
            ]
          },
          "metadata": {},
          "execution_count": 19
        }
      ]
    },
    {
      "cell_type": "code",
      "source": [
        "np.diag([1,1,1])\n"
      ],
      "metadata": {
        "colab": {
          "base_uri": "https://localhost:8080/"
        },
        "id": "gRrK2H7S8tPY",
        "outputId": "5b790674-d5b2-484f-f9cf-75a463a2f173"
      },
      "execution_count": 20,
      "outputs": [
        {
          "output_type": "execute_result",
          "data": {
            "text/plain": [
              "array([[1, 0, 0],\n",
              "       [0, 1, 0],\n",
              "       [0, 0, 1]])"
            ]
          },
          "metadata": {},
          "execution_count": 20
        }
      ]
    },
    {
      "cell_type": "markdown",
      "source": [
        "\n",
        "Create a numpy array with shape 2x5 that has all the elements as zero."
      ],
      "metadata": {
        "id": "jdneCc4P85y-"
      }
    },
    {
      "cell_type": "code",
      "source": [
        "np.zeros((2,5))\n"
      ],
      "metadata": {
        "colab": {
          "base_uri": "https://localhost:8080/"
        },
        "id": "SXYgWdob8yNZ",
        "outputId": "88340643-9802-4bd6-9688-02f3c5ca7016"
      },
      "execution_count": 21,
      "outputs": [
        {
          "output_type": "execute_result",
          "data": {
            "text/plain": [
              "array([[0., 0., 0., 0., 0.],\n",
              "       [0., 0., 0., 0., 0.]])"
            ]
          },
          "metadata": {},
          "execution_count": 21
        }
      ]
    },
    {
      "cell_type": "markdown",
      "source": [
        "Create a numpy array that has the shape 3x5 and all the elements are 5."
      ],
      "metadata": {
        "id": "3vv348qU9mCh"
      }
    },
    {
      "cell_type": "code",
      "source": [
        "np.full((3, 5), 5)\n"
      ],
      "metadata": {
        "colab": {
          "base_uri": "https://localhost:8080/"
        },
        "id": "zsugcOFx9c2t",
        "outputId": "633f9731-e2b3-46f2-dab1-34968e36b2f7"
      },
      "execution_count": 22,
      "outputs": [
        {
          "output_type": "execute_result",
          "data": {
            "text/plain": [
              "array([[5, 5, 5, 5, 5],\n",
              "       [5, 5, 5, 5, 5],\n",
              "       [5, 5, 5, 5, 5]])"
            ]
          },
          "metadata": {},
          "execution_count": 22
        }
      ]
    },
    {
      "cell_type": "markdown",
      "source": [
        "Create a numpy array with random integers in the range 0-100, and the sample size should be 25."
      ],
      "metadata": {
        "id": "MBviycG5-k4j"
      }
    },
    {
      "cell_type": "code",
      "source": [
        "np.random.randint(0, 101, 25)\n"
      ],
      "metadata": {
        "colab": {
          "base_uri": "https://localhost:8080/"
        },
        "id": "Yg4Mvmz1-fHU",
        "outputId": "dcc00677-36ce-4cdf-83b9-c59789e21ba9"
      },
      "execution_count": 24,
      "outputs": [
        {
          "output_type": "execute_result",
          "data": {
            "text/plain": [
              "array([ 50,  31,  27,  75,  80,  58,  31,  85,   5,  84,   3, 100,  47,\n",
              "        73,  81,  91,  31,  42,  20,  28,  20,  65,  79,  60,  39])"
            ]
          },
          "metadata": {},
          "execution_count": 24
        }
      ]
    },
    {
      "cell_type": "markdown",
      "source": [
        "Create a numpy array with a shape 3x3 that has all elements as 1."
      ],
      "metadata": {
        "id": "2NkEd8Nw_UFA"
      }
    },
    {
      "cell_type": "code",
      "source": [
        " np.full((3, 3), 1)"
      ],
      "metadata": {
        "colab": {
          "base_uri": "https://localhost:8080/"
        },
        "id": "McNjNuZB_Ibd",
        "outputId": "9e78e854-432b-4f69-ec06-02875aee3b3e"
      },
      "execution_count": 25,
      "outputs": [
        {
          "output_type": "execute_result",
          "data": {
            "text/plain": [
              "array([[1, 1, 1],\n",
              "       [1, 1, 1],\n",
              "       [1, 1, 1]])"
            ]
          },
          "metadata": {},
          "execution_count": 25
        }
      ]
    },
    {
      "cell_type": "markdown",
      "source": [
        "Create a numpy array in the shape 2x3 with random integers in the range 0-100. Reshape the array in the shape 3x2 and print the updated shape of the resultant array."
      ],
      "metadata": {
        "id": "slOLL5OxAKar"
      }
    },
    {
      "cell_type": "code",
      "source": [
        "a=np.random.randint(0, 101,size = (2,3))\n",
        "a=a.reshape(3,2)\n",
        "print(a)\n"
      ],
      "metadata": {
        "colab": {
          "base_uri": "https://localhost:8080/"
        },
        "id": "UIgxajiRABpg",
        "outputId": "8f0a7860-86c4-41cd-d36f-22c335266cbb"
      },
      "execution_count": 27,
      "outputs": [
        {
          "output_type": "stream",
          "name": "stdout",
          "text": [
            "[[14 36]\n",
            " [64 70]\n",
            " [95 89]]\n"
          ]
        }
      ]
    },
    {
      "cell_type": "markdown",
      "source": [
        "Create a random array, with the range 0-1000, with a size 50 and step 2. Perform the following operations on the same. a. Print the first ten elements of the array. b. Print the last ten elements of the array c. Print the elements from the indexes 10-25 d. Print the element at the index 22 e. Print the array using negative indexing. f. Print the last ten elements of the array, using negative indexing."
      ],
      "metadata": {
        "id": "dVv9b8vpBNUn"
      }
    },
    {
      "cell_type": "code",
      "source": [
        "a = np.array([1,2,3,4,5,6,7,8,9,10,11,12,13,14,15])\n",
        "a=a[::2]\n",
        "print(a[0:11])\n",
        "print(a[-11:])\n",
        "print(a[5:8])\n",
        "print(a[5])\n",
        "print(a[-16:])\n"
      ],
      "metadata": {
        "colab": {
          "base_uri": "https://localhost:8080/"
        },
        "id": "6Rz0saHdA9zV",
        "outputId": "dff13b67-0d21-44f0-f352-485a36395107"
      },
      "execution_count": 39,
      "outputs": [
        {
          "output_type": "stream",
          "name": "stdout",
          "text": [
            "[ 1  3  5  7  9 11 13 15]\n",
            "[ 1  3  5  7  9 11 13 15]\n",
            "[11 13 15]\n",
            "11\n",
            "[ 1  3  5  7  9 11 13 15]\n"
          ]
        }
      ]
    },
    {
      "cell_type": "code",
      "source": [
        "a=np.random.randint(0, 1001,100)\n",
        "a"
      ],
      "metadata": {
        "colab": {
          "base_uri": "https://localhost:8080/"
        },
        "id": "Lg9NkKNyCrBz",
        "outputId": "497daf73-7cdc-46e0-9302-c13ecb4c31e6"
      },
      "execution_count": 48,
      "outputs": [
        {
          "output_type": "execute_result",
          "data": {
            "text/plain": [
              "array([111,  12, 535, 245, 876, 897,  10,  82, 405,  38,  66, 450, 115,\n",
              "       544, 413, 926, 868, 566, 630, 824, 400,  73, 623, 450, 122, 791,\n",
              "       176,  14,  71, 797,  41, 939,  51, 943, 898, 679,  62, 777, 133,\n",
              "       350, 852, 152, 438, 715, 486, 495, 719, 664, 454, 127, 794,  39,\n",
              "       752, 200,  24, 949, 686, 390, 852,  24, 547,  65, 591, 890,  10,\n",
              "       741, 630, 870, 967, 865, 277, 277, 574, 685, 928, 309, 438, 217,\n",
              "       478, 177, 503, 730, 805, 351,  39, 974, 831, 908, 693, 994, 316,\n",
              "       106, 702, 366, 663, 720, 272, 260, 971, 302])"
            ]
          },
          "metadata": {},
          "execution_count": 48
        }
      ]
    },
    {
      "cell_type": "code",
      "source": [
        "a=a[::2]"
      ],
      "metadata": {
        "id": "VKadR2SPJFQb"
      },
      "execution_count": 49,
      "outputs": []
    },
    {
      "cell_type": "code",
      "source": [
        "a"
      ],
      "metadata": {
        "colab": {
          "base_uri": "https://localhost:8080/"
        },
        "id": "5BrgcMiLJK1C",
        "outputId": "3469b014-ed18-4a42-bc0c-9b2ad7cc7120"
      },
      "execution_count": 50,
      "outputs": [
        {
          "output_type": "execute_result",
          "data": {
            "text/plain": [
              "array([111, 535, 876,  10, 405,  66, 115, 413, 868, 630, 400, 623, 122,\n",
              "       176,  71,  41,  51, 898,  62, 133, 852, 438, 486, 719, 454, 794,\n",
              "       752,  24, 686, 852, 547, 591,  10, 630, 967, 277, 574, 928, 438,\n",
              "       478, 503, 805,  39, 831, 693, 316, 702, 663, 272, 971])"
            ]
          },
          "metadata": {},
          "execution_count": 50
        }
      ]
    },
    {
      "cell_type": "markdown",
      "source": [
        "\n",
        "Given a numpy array that has values = [1,2,3,4,5]. Perform the following operations. a. Insert the element 6 at the end of the array. b. Insert the element 10 at the beginning of the array. c. Insert the element 30, before 4. d. Update the element 5 as 50. e. Delete the element 50 in the updated array. f. Create a function to search for the element 30. g. Sort the array in ascending order."
      ],
      "metadata": {
        "id": "uq06A6MxOqyj"
      }
    },
    {
      "cell_type": "code",
      "source": [
        "a=np.array([1,2,3,4,5])\n",
        "# append\n",
        "a=np.append(a,6)"
      ],
      "metadata": {
        "id": "IwoW3HkIJgqq"
      },
      "execution_count": 69,
      "outputs": []
    },
    {
      "cell_type": "code",
      "source": [
        "a"
      ],
      "metadata": {
        "colab": {
          "base_uri": "https://localhost:8080/"
        },
        "id": "VqBIUHwsR6OM",
        "outputId": "6d968473-fffb-46fc-f573-be8ad047f9f4"
      },
      "execution_count": 70,
      "outputs": [
        {
          "output_type": "execute_result",
          "data": {
            "text/plain": [
              "array([1, 2, 3, 4, 5, 6])"
            ]
          },
          "metadata": {},
          "execution_count": 70
        }
      ]
    },
    {
      "cell_type": "code",
      "source": [
        "np.insert(a,0,10)"
      ],
      "metadata": {
        "colab": {
          "base_uri": "https://localhost:8080/"
        },
        "id": "FwSCdsNOQOHU",
        "outputId": "2faf1d93-28e2-493e-8dff-e870f0d40e73"
      },
      "execution_count": 71,
      "outputs": [
        {
          "output_type": "execute_result",
          "data": {
            "text/plain": [
              "array([10,  1,  2,  3,  4,  5,  6])"
            ]
          },
          "metadata": {},
          "execution_count": 71
        }
      ]
    },
    {
      "cell_type": "code",
      "source": [
        "np.insert(a,3,30)"
      ],
      "metadata": {
        "colab": {
          "base_uri": "https://localhost:8080/"
        },
        "id": "ey2jyY7YQN-w",
        "outputId": "5296756c-dbed-423b-c72e-6b238910e6ac"
      },
      "execution_count": 72,
      "outputs": [
        {
          "output_type": "execute_result",
          "data": {
            "text/plain": [
              "array([ 1,  2,  3, 30,  4,  5,  6])"
            ]
          },
          "metadata": {},
          "execution_count": 72
        }
      ]
    },
    {
      "cell_type": "code",
      "source": [
        "x=list(a)\n",
        "x"
      ],
      "metadata": {
        "colab": {
          "base_uri": "https://localhost:8080/"
        },
        "id": "xX1gF7ClSVew",
        "outputId": "113b8c49-597e-45dc-9402-afa91e7d4dd6"
      },
      "execution_count": 73,
      "outputs": [
        {
          "output_type": "execute_result",
          "data": {
            "text/plain": [
              "[1, 2, 3, 4, 5, 6]"
            ]
          },
          "metadata": {},
          "execution_count": 73
        }
      ]
    },
    {
      "cell_type": "code",
      "source": [
        "x.index(4)"
      ],
      "metadata": {
        "colab": {
          "base_uri": "https://localhost:8080/"
        },
        "id": "fcQfMC2LSleS",
        "outputId": "f491d6ff-73a4-4e1c-b628-bae71af9c2b1"
      },
      "execution_count": 74,
      "outputs": [
        {
          "output_type": "execute_result",
          "data": {
            "text/plain": [
              "3"
            ]
          },
          "metadata": {},
          "execution_count": 74
        }
      ]
    },
    {
      "cell_type": "code",
      "source": [
        "a[4]=50\n",
        "a"
      ],
      "metadata": {
        "colab": {
          "base_uri": "https://localhost:8080/"
        },
        "id": "13UYivDFSlU6",
        "outputId": "c32efa6f-0fed-43a4-eb2f-c3b6b728dac9"
      },
      "execution_count": 75,
      "outputs": [
        {
          "output_type": "execute_result",
          "data": {
            "text/plain": [
              "array([ 1,  2,  3,  4, 50,  6])"
            ]
          },
          "metadata": {},
          "execution_count": 75
        }
      ]
    },
    {
      "cell_type": "code",
      "source": [
        "np.delete(a,4)"
      ],
      "metadata": {
        "colab": {
          "base_uri": "https://localhost:8080/"
        },
        "id": "GJvuq7RJSlJj",
        "outputId": "03dba2dd-dd9b-4086-8b21-5b4e0df77957"
      },
      "execution_count": 76,
      "outputs": [
        {
          "output_type": "execute_result",
          "data": {
            "text/plain": [
              "array([1, 2, 3, 4, 6])"
            ]
          },
          "metadata": {},
          "execution_count": 76
        }
      ]
    },
    {
      "cell_type": "code",
      "source": [
        "def search(arr,elem):\n",
        "    for k in arr:\n",
        "        if k==elem:\n",
        "            return True;\n",
        "    return False;\n",
        "search(a,40)"
      ],
      "metadata": {
        "colab": {
          "base_uri": "https://localhost:8080/"
        },
        "id": "u7M5RL_ATn4L",
        "outputId": "b1825cf0-ff90-4ae5-f266-e61c61a58336"
      },
      "execution_count": 97,
      "outputs": [
        {
          "output_type": "execute_result",
          "data": {
            "text/plain": [
              "False"
            ]
          },
          "metadata": {},
          "execution_count": 97
        }
      ]
    },
    {
      "cell_type": "code",
      "source": [],
      "metadata": {
        "id": "Mt22a767TnwO"
      },
      "execution_count": null,
      "outputs": []
    },
    {
      "cell_type": "code",
      "source": [],
      "metadata": {
        "id": "9NTjcH2BTnpC"
      },
      "execution_count": null,
      "outputs": []
    },
    {
      "cell_type": "markdown",
      "source": [
        "Given two numpy arrays A and B that have values [1,2,3,4] and [5,6,7,8] respectively.\n",
        "Perform the following operations.\n",
        "a. Add the two arrays\n",
        "b. Subtract the two arrays\n",
        "c. Multiply the two arrays:\n",
        "i. With 5\n",
        "ii. With each other.\n",
        "d. Divide the two arrays:\n",
        "i. By 2\n",
        "ii. Divide A with B\n",
        "iii. Divide B with A."
      ],
      "metadata": {
        "id": "-FmeOnprP7ua"
      }
    },
    {
      "cell_type": "code",
      "source": [
        "a = np.array([1,2,3,4])\n",
        "b = np.array([5,6,7,8])\n",
        "add_arr = a + b\n",
        "print(add_arr)\n",
        "sub_arr = a - b\n",
        "print(sub_arr)\n",
        "mul_arr = a * b\n",
        "print(mul_arr)\n"
      ],
      "metadata": {
        "colab": {
          "base_uri": "https://localhost:8080/"
        },
        "id": "n2XZtS7fVn2i",
        "outputId": "d6e3d8b1-befc-4ddb-e2bd-dd5530d66466"
      },
      "execution_count": 99,
      "outputs": [
        {
          "output_type": "stream",
          "name": "stdout",
          "text": [
            "[ 6  8 10 12]\n",
            "[-4 -4 -4 -4]\n",
            "[ 5 12 21 32]\n"
          ]
        }
      ]
    },
    {
      "cell_type": "code",
      "source": [
        "arr1 = [1,2,3,4]\n",
        "arr2 = [5,6,7,8]\n",
        "print(np.add(arr1,arr2))\n",
        "print(np.subtract(arr1,arr2))\n",
        "print(np.multiply(arr1,5))\n",
        "print(np.multiply(arr1,arr2))\n",
        "print(np.divide(arr1,2))\n",
        "print(np.divide(arr1,arr2))\n"
      ],
      "metadata": {
        "colab": {
          "base_uri": "https://localhost:8080/"
        },
        "id": "_tYJcoZfVnzp",
        "outputId": "b16e20ef-16db-4ab7-afac-027ef2b9a9d3"
      },
      "execution_count": 100,
      "outputs": [
        {
          "output_type": "stream",
          "name": "stdout",
          "text": [
            "[ 6  8 10 12]\n",
            "[-4 -4 -4 -4]\n",
            "[ 5 10 15 20]\n",
            "[ 5 12 21 32]\n",
            "[0.5 1.  1.5 2. ]\n",
            "[0.2        0.33333333 0.42857143 0.5       ]\n"
          ]
        }
      ]
    },
    {
      "cell_type": "code",
      "source": [],
      "metadata": {
        "id": "__mkkHs8Vnwu"
      },
      "execution_count": null,
      "outputs": []
    },
    {
      "cell_type": "code",
      "source": [],
      "metadata": {
        "id": "rxb1r05ZVnuQ"
      },
      "execution_count": null,
      "outputs": []
    },
    {
      "cell_type": "code",
      "source": [],
      "metadata": {
        "id": "gQuC8AvqVnrg"
      },
      "execution_count": null,
      "outputs": []
    },
    {
      "cell_type": "code",
      "source": [],
      "metadata": {
        "id": "Qfi8fV-CVnoy"
      },
      "execution_count": null,
      "outputs": []
    },
    {
      "cell_type": "code",
      "source": [],
      "metadata": {
        "id": "TJHXk3t8Vnlj"
      },
      "execution_count": null,
      "outputs": []
    },
    {
      "cell_type": "code",
      "source": [],
      "metadata": {
        "id": "pD3xeJcOVniX"
      },
      "execution_count": null,
      "outputs": []
    },
    {
      "cell_type": "code",
      "source": [],
      "metadata": {
        "id": "Fh7klgi7VnfH"
      },
      "execution_count": null,
      "outputs": []
    },
    {
      "cell_type": "markdown",
      "source": [
        "For the given two arrays A and B.\n",
        "a = np.array([[2,9],[6,13]])\n",
        "b = np.array([[1,4],[3,11]])\n",
        "Perform the following operations,\n",
        "a. Cross product of A and B.\n",
        "b. Dot product of A and B.\n",
        "c. Matrix multiplication of A and B.\n",
        "d. Square root of A and B."
      ],
      "metadata": {
        "id": "4lG6nhVcQK0e"
      }
    },
    {
      "cell_type": "code",
      "source": [
        "a = np.array([[2,9] , [6,13]])\n",
        "b = np.array([[1,4] , [3,11]])\n",
        "\n",
        "#Cross prod of a and b\n",
        "print(f'Cross Prod of a and b : ', np.cross(a,b))\n",
        "\n",
        "#Dot prod of a and b\n",
        "print(f'Cross Prod of a and b : ', np.dot(a,b))\n"
      ],
      "metadata": {
        "colab": {
          "base_uri": "https://localhost:8080/"
        },
        "id": "sFgOOImEQBT_",
        "outputId": "060cbde9-c1fc-4981-9748-2bc62b1c1554"
      },
      "execution_count": 101,
      "outputs": [
        {
          "output_type": "stream",
          "name": "stdout",
          "text": [
            "Cross Prod of a and b :  [-1 27]\n",
            "Cross Prod of a and b :  [[ 29 107]\n",
            " [ 45 167]]\n"
          ]
        }
      ]
    },
    {
      "cell_type": "code",
      "source": [
        "print(np.multiply(a,b))\n",
        "print(np.sqrt(a))\n"
      ],
      "metadata": {
        "colab": {
          "base_uri": "https://localhost:8080/"
        },
        "id": "Z9CLOhJDX9_T",
        "outputId": "771d92ac-20ab-4c83-f68d-2d3f88451c41"
      },
      "execution_count": 102,
      "outputs": [
        {
          "output_type": "stream",
          "name": "stdout",
          "text": [
            "[[  2  36]\n",
            " [ 18 143]]\n",
            "[[1.41421356 3.        ]\n",
            " [2.44948974 3.60555128]]\n"
          ]
        }
      ]
    },
    {
      "cell_type": "code",
      "source": [
        "np.matmul(a,b)"
      ],
      "metadata": {
        "colab": {
          "base_uri": "https://localhost:8080/"
        },
        "id": "R_FJnUvgYDd1",
        "outputId": "6926e53d-79bc-4765-849a-3581892c9cda"
      },
      "execution_count": 104,
      "outputs": [
        {
          "output_type": "execute_result",
          "data": {
            "text/plain": [
              "array([[ 29, 107],\n",
              "       [ 45, 167]])"
            ]
          },
          "metadata": {},
          "execution_count": 104
        }
      ]
    },
    {
      "cell_type": "code",
      "source": [],
      "metadata": {
        "id": "MPAA2HB4YLws"
      },
      "execution_count": null,
      "outputs": []
    }
  ]
}